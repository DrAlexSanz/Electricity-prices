{
  "nbformat": 4,
  "nbformat_minor": 0,
  "metadata": {
    "colab": {
      "name": "Feature engineering",
      "provenance": [],
      "include_colab_link": true
    },
    "kernelspec": {
      "name": "python3",
      "display_name": "Python 3"
    },
    "language_info": {
      "name": "python"
    }
  },
  "cells": [
    {
      "cell_type": "markdown",
      "metadata": {
        "id": "view-in-github",
        "colab_type": "text"
      },
      "source": [
        "<a href=\"https://colab.research.google.com/github/DrAlexSanz/Electricity-prices/blob/main/Feature_engineering.ipynb\" target=\"_parent\"><img src=\"https://colab.research.google.com/assets/colab-badge.svg\" alt=\"Open In Colab\"/></a>"
      ]
    },
    {
      "cell_type": "code",
      "source": [
        "import pandas as pd\n",
        "import numpy as np\n",
        "import statsmodels.api as sm\n",
        "import matplotlib.pyplot as plt\n",
        "import seaborn as sns\n",
        "from sklearn.metrics import mean_squared_error, r2_score\n",
        "from sklearn.preprocessing import LabelEncoder, StandardScaler, MinMaxScaler\n",
        "from sklearn.decomposition import PCA\n",
        "from google.colab import drive"
      ],
      "metadata": {
        "id": "pFC9CjiXUCsb"
      },
      "execution_count": 58,
      "outputs": []
    },
    {
      "cell_type": "code",
      "execution_count": 2,
      "metadata": {
        "colab": {
          "base_uri": "https://localhost:8080/"
        },
        "id": "C_4DrC-TT7xO",
        "outputId": "a6fc0fcb-7946-426d-bf57-a16d08d843b7"
      },
      "outputs": [
        {
          "output_type": "stream",
          "name": "stdout",
          "text": [
            "Mounted at /gdrive\n"
          ]
        }
      ],
      "source": [
        "drive.mount('/gdrive')"
      ]
    },
    {
      "cell_type": "code",
      "source": [
        "data = pd.read_csv('/gdrive/MyDrive/Electricity_prices/for_features.csv', parse_dates = True)\n",
        "data[\"time\"] = pd.to_datetime(data[\"time\"])"
      ],
      "metadata": {
        "id": "m0PVAWG_kWij"
      },
      "execution_count": 62,
      "outputs": []
    },
    {
      "cell_type": "markdown",
      "source": [
        "## Feature engineering\n",
        "\n",
        "**What is important for the electricity price?**\n",
        "\n",
        "\n",
        "*   Weekday or weekend. I will generate two columns, weekend = 0/1 and weekday = 0/1.\n",
        "*   Special events, like holidays, football matches and similar things.\n",
        "*   Load and generation, I already have those columns.\n",
        "*   Weather information, I already have those columns.\n",
        "*   Taxes, carbon emissions right, and all those things. I don't want to get into all this mess. Electricity companies consider these things in their models.\n",
        "\n",
        "**What features can I discard?**\n",
        "\n",
        "Based on the correlation matrix and common sense. [Time_series_stationality](https://github.com/DrAlexSanz/Electricity-prices/blob/main/Time_series_stationality.ipynb)\n",
        "\n",
        "*   If I have the hourly temperature, the min/max temperatures will not give me a lot of new information. I removed them in the cleaning stage.\n",
        "\n",
        "*   The temperatures and pressures in different cities are correlated because at these scales they vary very smoothly. Pressure and temperature also impact the rain and snow. Since I don't have a lot of knowledge about how all this variables interact, and the interaction will be highly non-linear, I will leave them.\n",
        "\n",
        "*  I can't combine different energy generation features. They are all correlated by the market but there is no equation on how to combine them. Only nuclear in the base, renewables offered at 0 and the combined cycles and hydro for quick response, peak shaving and rolling reserves.\n",
        "\n",
        "**I will also do a PCA decomposition and see how many of the PCA features I would need to explain 80-90% of the variance, out of curiosity mostly.**"
      ],
      "metadata": {
        "id": "bNhfXuEcPqkQ"
      }
    },
    {
      "cell_type": "code",
      "source": [
        "data[\"weekend\"] = 0 # No need to apply another condition later.\n",
        "data.loc[data[\"time\"].dt.weekday >= 5, \"weekend\"] = 1"
      ],
      "metadata": {
        "id": "MhmXO29jSr83"
      },
      "execution_count": 63,
      "outputs": []
    },
    {
      "cell_type": "markdown",
      "source": [
        "#### Now that I have all the features and everything that I want created I will split in train/test/validation(80/10/10).\n",
        "\n",
        "These values are reasonable but I could do 95/5/5 or something else. I know that seasonality is daily and yearly."
      ],
      "metadata": {
        "id": "BPPprqadaIn-"
      }
    },
    {
      "cell_type": "code",
      "source": [
        "train_limit = 28051 #Hard coded based on 80% and 90%\n",
        "test_limit = 31557\n",
        "\n",
        "x_train = data.iloc[:train_limit]\n",
        "x_test = data.iloc[train_limit:test_limit]\n",
        "x_val = data.iloc[test_limit:]\n",
        "\n",
        "x_train = x_train.drop(\"price actual\", axis = 1)\n",
        "x_test = x_test.drop(\"price actual\", axis = 1)\n",
        "x_val = x_val.drop(\"price actual\", axis = 1)\n",
        "\n",
        "y_train = data[\"price actual\"].iloc[:train_limit]\n",
        "y_test = data[\"price actual\"].iloc[train_limit:test_limit]\n",
        "y_val = data[\"price actual\"].iloc[test_limit:]"
      ],
      "metadata": {
        "id": "2oKg68N4aIM-"
      },
      "execution_count": 69,
      "outputs": []
    },
    {
      "cell_type": "markdown",
      "source": [
        "### (Scaling and) PCA decomposition\n",
        "\n",
        "Need to scale my data before the PCA, generations can be in 1000s of MW and temperatures in 10s. If I don't scale I get a sorting of the variables by importance."
      ],
      "metadata": {
        "id": "dPWwoL09l3Tb"
      }
    },
    {
      "cell_type": "code",
      "source": [
        "scaler_x = MinMaxScaler(feature_range = (0, 1))\n",
        "scaler_y = MinMaxScaler(feature_range = (0, 1))\n",
        "\n",
        "x_pca_no_dt = x_train.drop(\"time\", axis = 1)\n",
        "\n",
        "x_train_pca = scaler_x.fit_transform(x_pca_no_dt)\n",
        "\n",
        "pca = PCA()\n",
        "\n",
        "x_pca = pca.fit(x_train_pca)\n",
        "\n",
        "num_components = len(pca.explained_variance_ratio_)\n",
        "\n",
        "plt.figure(figsize = (10, 5))\n",
        "\n",
        "plt.bar(np.arange(num_components), pca.explained_variance_ratio_)\n",
        "plt.plot(np.cumsum(pca.explained_variance_ratio_))\n",
        "\n",
        "plt.show()"
      ],
      "metadata": {
        "colab": {
          "base_uri": "https://localhost:8080/",
          "height": 320
        },
        "id": "AVDE6i51hn0_",
        "outputId": "41795668-35aa-4a72-f57c-2c30a291a426"
      },
      "execution_count": 72,
      "outputs": [
        {
          "output_type": "display_data",
          "data": {
            "text/plain": [
              "<Figure size 720x360 with 1 Axes>"
            ],
            "image/png": "[encoded data removed]"
          },
          "metadata": {
            "needs_background": "light"
          }
        }
      ]
    },
    {
      "cell_type": "code",
      "source": [
        "# I need 14-15 variables to explain 80% of the variance and 21 to explain 90%. I have 55 total components.\n",
        "\n",
        "for count, var in enumerate(np.cumsum(pca.explained_variance_ratio_)):\n",
        "    print(\"With \" + str(count + 1) + \" components I can explain \" + str(round(var * 100, 2)) + \"% of the variance\")"
      ],
      "metadata": {
        "colab": {
          "base_uri": "https://localhost:8080/"
        },
        "id": "4BtCKFL7nYmw",
        "outputId": "23ebf332-bb67-418e-b726-498778fb39f7"
      },
      "execution_count": 77,
      "outputs": [
        {
          "output_type": "stream",
          "name": "stdout",
          "text": [
            "With 1 components I can explain 14.09% of the variance\n",
            "With 2 components I can explain 24.88% of the variance\n",
            "With 3 components I can explain 33.9% of the variance\n",
            "With 4 components I can explain 41.07% of the variance\n",
            "With 5 components I can explain 47.25% of the variance\n",
            "With 6 components I can explain 52.46% of the variance\n",
            "With 7 components I can explain 57.42% of the variance\n",
            "With 8 components I can explain 61.66% of the variance\n",
            "With 9 components I can explain 65.69% of the variance\n",
            "With 10 components I can explain 69.28% of the variance\n",
            "With 11 components I can explain 72.49% of the variance\n",
            "With 12 components I can explain 75.46% of the variance\n",
            "With 13 components I can explain 77.95% of the variance\n",
            "With 14 components I can explain 80.02% of the variance\n",
            "With 15 components I can explain 82.03% of the variance\n",
            "With 16 components I can explain 83.93% of the variance\n",
            "With 17 components I can explain 85.57% of the variance\n",
            "With 18 components I can explain 87.16% of the variance\n",
            "With 19 components I can explain 88.38% of the variance\n",
            "With 20 components I can explain 89.46% of the variance\n",
            "With 21 components I can explain 90.36% of the variance\n",
            "With 22 components I can explain 91.23% of the variance\n",
            "With 23 components I can explain 91.95% of the variance\n",
            "With 24 components I can explain 92.64% of the variance\n",
            "With 25 components I can explain 93.31% of the variance\n",
            "With 26 components I can explain 93.92% of the variance\n",
            "With 27 components I can explain 94.52% of the variance\n",
            "With 28 components I can explain 95.06% of the variance\n",
            "With 29 components I can explain 95.57% of the variance\n",
            "With 30 components I can explain 96.08% of the variance\n",
            "With 31 components I can explain 96.53% of the variance\n",
            "With 32 components I can explain 96.94% of the variance\n",
            "With 33 components I can explain 97.31% of the variance\n",
            "With 34 components I can explain 97.64% of the variance\n",
            "With 35 components I can explain 97.97% of the variance\n",
            "With 36 components I can explain 98.25% of the variance\n",
            "With 37 components I can explain 98.46% of the variance\n",
            "With 38 components I can explain 98.66% of the variance\n",
            "With 39 components I can explain 98.85% of the variance\n",
            "With 40 components I can explain 99.0% of the variance\n",
            "With 41 components I can explain 99.15% of the variance\n",
            "With 42 components I can explain 99.29% of the variance\n",
            "With 43 components I can explain 99.41% of the variance\n",
            "With 44 components I can explain 99.53% of the variance\n",
            "With 45 components I can explain 99.62% of the variance\n",
            "With 46 components I can explain 99.7% of the variance\n",
            "With 47 components I can explain 99.78% of the variance\n",
            "With 48 components I can explain 99.84% of the variance\n",
            "With 49 components I can explain 99.89% of the variance\n",
            "With 50 components I can explain 99.94% of the variance\n",
            "With 51 components I can explain 99.96% of the variance\n",
            "With 52 components I can explain 99.98% of the variance\n",
            "With 53 components I can explain 99.99% of the variance\n",
            "With 54 components I can explain 100.0% of the variance\n",
            "With 55 components I can explain 100.0% of the variance\n"
          ]
        }
      ]
    }
  ]
}