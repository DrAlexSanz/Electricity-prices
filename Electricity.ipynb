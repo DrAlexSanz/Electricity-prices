{
  "nbformat": 4,
  "nbformat_minor": 0,
  "metadata": {
    "colab": {
      "name": "Electricity.ipynb",
      "provenance": [],
      "authorship_tag": "ABX9TyMR5WGkmiJMTyq2wVEM2nb3",
      "include_colab_link": true
    },
    "kernelspec": {
      "name": "python3",
      "display_name": "Python 3"
    },
    "language_info": {
      "name": "python"
    }
  },
  "cells": [
    {
      "cell_type": "markdown",
      "metadata": {
        "id": "view-in-github",
        "colab_type": "text"
      },
      "source": [
        "<a href=\"https://colab.research.google.com/github/DrAlexSanz/Electricity-prices/blob/main/Electricity.ipynb\" target=\"_parent\"><img src=\"https://colab.research.google.com/assets/colab-badge.svg\" alt=\"Open In Colab\"/></a>"
      ]
    },
    {
      "cell_type": "markdown",
      "source": [
        "Based on this: https://www.kaggle.com/dimitriosroussis/electricity-price-forecasting-with-dnns-eda/notebook"
      ],
      "metadata": {
        "id": "UyMZqPlyic23"
      }
    },
    {
      "cell_type": "code",
      "execution_count": null,
      "metadata": {
        "id": "C8DHmWvziSpZ"
      },
      "outputs": [],
      "source": [
        ""
      ]
    }
  ]
}